{
 "cells": [
  {
   "cell_type": "code",
   "execution_count": null,
   "id": "fc53f846-0bd3-461b-b7cf-2fed6dd64ec8",
   "metadata": {},
   "outputs": [],
   "source": []
  },
  {
   "cell_type": "markdown",
   "id": "d4e0deac-a09e-4d89-97e6-de757aa4df98",
   "metadata": {},
   "source": [
    "# Q1, Create a vehicle class with an init method having instance variables as name_of_vehicle, max_speed and average_of_vehicle."
   ]
  },
  {
   "cell_type": "code",
   "execution_count": 1,
   "id": "822e14b4-461f-4596-aa67-b23ef0da08ee",
   "metadata": {},
   "outputs": [],
   "source": [
    "class Vehicle:\n",
    "    def __init__(self, name_of_vehicle,max_speed,average_speed):\n",
    "        self.name_of_vechile = name_of_vehicle\n",
    "        self.max_speed = max_speed\n",
    "        self.average_speed = average_speed"
   ]
  },
  {
   "cell_type": "code",
   "execution_count": 2,
   "id": "7e8379cc-e8b7-4c2a-b87b-7bef8c51ca49",
   "metadata": {},
   "outputs": [
    {
     "name": "stdout",
     "output_type": "stream",
     "text": [
      "Name of Vehicle: Car\n",
      "Max Speed: 200 km/h\n",
      "Average Speed: 60 km/h\n"
     ]
    }
   ],
   "source": [
    "car = Vehicle(\"Car\",200,60)\n",
    "print(f\"Name of Vehicle: {car.name_of_vechile}\")\n",
    "print(f\"Max Speed: {car.max_speed} km/h\")\n",
    "print(f\"Average Speed: {car.average_speed} km/h\")"
   ]
  },
  {
   "cell_type": "markdown",
   "id": "4ca1f539-3481-417a-af60-eadec2023f24",
   "metadata": {},
   "source": [
    "# Q2. Create a child class car from the vehicle class created in Que 1, which will inherit the vehicle class. Create a method named seating_capacity which takes capacity as an argument and returns the name of the vehicle and its seating capacity."
   ]
  },
  {
   "cell_type": "code",
   "execution_count": 3,
   "id": "e80a511e-51dd-4edc-9d7c-ea0a8edc4017",
   "metadata": {},
   "outputs": [],
   "source": [
    "class Vehicle:\n",
    "    def __init__(self,name_of_vehicle,max_speed,average_speed):\n",
    "        self.name_of_vehicle = name_of_vehicle\n",
    "        self.max_speed = max_speed\n",
    "        self.average_speed = average_speed\n",
    "        \n",
    "class Car(Vehicle):\n",
    "    def seating_capacity(self,capacity):\n",
    "        return f\"{self.name_of_vehicle} has a seating capacity of {capacity} people.\"\n",
    "    "
   ]
  },
  {
   "cell_type": "code",
   "execution_count": 4,
   "id": "fc74ae8c-54aa-4fbd-8fe5-5cdcceb6b717",
   "metadata": {},
   "outputs": [
    {
     "name": "stdout",
     "output_type": "stream",
     "text": [
      "Name of Vehicle:Car\n",
      "Max Speed: 200 km/h\n",
      "Average Speed:60 km/h\n"
     ]
    }
   ],
   "source": [
    "car_instance = Car(\"Car\",200,60)\n",
    "print(f\"Name of Vehicle:{car_instance.name_of_vehicle}\")\n",
    "print(f\"Max Speed: {car_instance.max_speed} km/h\")\n",
    "print(f\"Average Speed:{car_instance.average_speed} km/h\")\n"
   ]
  },
  {
   "cell_type": "code",
   "execution_count": 5,
   "id": "f0fe4441-4c99-4880-a144-a0b57a1abe50",
   "metadata": {},
   "outputs": [
    {
     "name": "stdout",
     "output_type": "stream",
     "text": [
      "Car has a seating capacity of 5 people.\n"
     ]
    }
   ],
   "source": [
    "capacity_result = car_instance.seating_capacity(5)\n",
    "print(capacity_result)"
   ]
  },
  {
   "cell_type": "markdown",
   "id": "acdfa84f-9f5f-478c-8a41-b4bbd9b47d13",
   "metadata": {},
   "source": [
    "# Q3. What is multiple inheritance? Write a python code to demonstrate multiple inheritance."
   ]
  },
  {
   "cell_type": "markdown",
   "id": "193dad85-11d8-4898-b483-5afb31c1a892",
   "metadata": {},
   "source": [
    "Ans=Multiple inheritance in Python occurs when a class inherits from more than one base class. In other words, a class can derive attributes and methods from more than one parent class. This allows a child class to inherit characteristics from multiple classes."
   ]
  },
  {
   "cell_type": "code",
   "execution_count": 6,
   "id": "e396bf55-8dfb-4bfe-8539-f3f70c733514",
   "metadata": {},
   "outputs": [],
   "source": [
    "class Animal:\n",
    "    def __init__(self,species):\n",
    "        self.species = species\n",
    "        \n",
    "    def make_sound(self):\n",
    "        pass\n",
    "    \n",
    "class Mammal:\n",
    "    def __init__(self,mammal_type):\n",
    "        self.mammal_type = mammal_type\n",
    "        \n",
    "    def give_birth(self):\n",
    "        pass\n",
    "class Dog(Animal,Mammal):\n",
    "    def __init__(self,name,breed): # call the constructor of both parent classes\n",
    "        Animal.__init__(self,species=\"Dog\")\n",
    "        Mammal.__init__(self,mammal_type=\"Quadruped\")\n",
    "        self.name = name\n",
    "        self.breed = breed\n",
    "        \n",
    "    def make_sound(self):\n",
    "        return \"Woof!\"\n",
    "    \n",
    "    def give_birth(self):\n",
    "        return \"Live birth\"\n",
    "\n"
   ]
  },
  {
   "cell_type": "code",
   "execution_count": 7,
   "id": "5d41e612-05b4-446f-8228-ff1ec25de08c",
   "metadata": {},
   "outputs": [
    {
     "name": "stdout",
     "output_type": "stream",
     "text": [
      "Name:Buddy\n",
      "Species:Dog\n"
     ]
    }
   ],
   "source": [
    "my_dog = Dog(name=\"Buddy\", breed=\"Labrador\")\n",
    "print(f\"Name:{my_dog.name}\")\n",
    "print(f\"Species:{my_dog.species}\")"
   ]
  },
  {
   "cell_type": "markdown",
   "id": "5d33e25b-87e7-4730-8d7d-c7e8588f6206",
   "metadata": {},
   "source": [
    "# Q4. What are getter and setter in python? Create a class and create a getter and a setter method in this class."
   ]
  },
  {
   "cell_type": "markdown",
   "id": "92c71429-c2c7-428a-a850-33f7e23bcedc",
   "metadata": {},
   "source": [
    "Ans=In Python, getter and setter methods are used to access and modify the private attributes of a class, respectively. These methods provide a way to encapsulate the internal state of an object and control access to it. Here's an example of a class with a getter and a setter method:"
   ]
  },
  {
   "cell_type": "code",
   "execution_count": 8,
   "id": "5c5bec3f-a429-480a-87e7-94777c860452",
   "metadata": {},
   "outputs": [],
   "source": [
    "class MyClass:\n",
    "    def __init__(self): # private attribute\n",
    "        self._my_variable = None\n",
    "        \n",
    "        \n",
    "        #getter method\n",
    "    def get_my_variable(self):\n",
    "        return self._my_variable\n",
    "    \n",
    "    # setter method\n",
    "    def set_my_variable(self, value):\n",
    "        if isinstance(value, int):\n",
    "            self._my_variable = value\n",
    "        else:\n",
    "            print(\"Invalid value. please provide an integer.\")\n",
    "        \n",
    "        "
   ]
  },
  {
   "cell_type": "code",
   "execution_count": 9,
   "id": "377d7432-2d79-4a96-9cfe-3bca8a9fddbd",
   "metadata": {},
   "outputs": [],
   "source": [
    "obj = MyClass()"
   ]
  },
  {
   "cell_type": "code",
   "execution_count": 10,
   "id": "6b1e734f-fd21-4e25-9116-5d2af90f1c41",
   "metadata": {},
   "outputs": [],
   "source": [
    "obj.set_my_variable(42)"
   ]
  },
  {
   "cell_type": "code",
   "execution_count": 11,
   "id": "0a5ec26c-3d9b-452f-9da5-5fb225bc0a8d",
   "metadata": {},
   "outputs": [
    {
     "name": "stdout",
     "output_type": "stream",
     "text": [
      "My variable value: 42\n"
     ]
    }
   ],
   "source": [
    "value = obj.get_my_variable()\n",
    "print(f\"My variable value: {value}\")"
   ]
  },
  {
   "cell_type": "markdown",
   "id": "2bd894ce-8050-4283-a48c-e577e6e0ce3a",
   "metadata": {},
   "source": [
    "# Q5.What is method overriding in python? Write a python code to demonstrate method overriding."
   ]
  },
  {
   "cell_type": "markdown",
   "id": "3f05bfc8-d9a2-4ea0-ab4e-6e884ce03bce",
   "metadata": {},
   "source": [
    "Ans=Method overriding in Python occurs when a derived class provides a specific implementation for a method that is already defined in its base class. The overridden method in the derived class should have the same method signature (name and parameters) as the method in the base class. This allows the derived class to provide its own behavior for the method."
   ]
  },
  {
   "cell_type": "code",
   "execution_count": 12,
   "id": "bb7a5d7c-f993-4958-a225-be14e8c98958",
   "metadata": {},
   "outputs": [],
   "source": [
    "class Animal:\n",
    "    def make_sound(self):\n",
    "        print(\"Generate animal sound\")\n",
    "        \n",
    "class Dog(Animal): # overriding the make_sound method\n",
    "    def make_sound(self):\n",
    "        print(\"woof! woof!\")\n",
    "        \n",
    "class Cat(Animal): \n",
    "    def make_sound(self):\n",
    "        print(\"Meow!\")\n",
    "    "
   ]
  },
  {
   "cell_type": "code",
   "execution_count": 13,
   "id": "9619bab8-1093-4108-9ddd-85eaf454894f",
   "metadata": {},
   "outputs": [],
   "source": [
    "# create instances of the derived classes\n",
    "dog_instance = Dog()\n",
    "cat_instance = Cat()"
   ]
  },
  {
   "cell_type": "code",
   "execution_count": null,
   "id": "2c05da00-0ecc-4bd0-ac5b-cfdfa9de7995",
   "metadata": {},
   "outputs": [],
   "source": [
    "# call the ove"
   ]
  }
 ],
 "metadata": {
  "kernelspec": {
   "display_name": "Python 3 (ipykernel)",
   "language": "python",
   "name": "python3"
  },
  "language_info": {
   "codemirror_mode": {
    "name": "ipython",
    "version": 3
   },
   "file_extension": ".py",
   "mimetype": "text/x-python",
   "name": "python",
   "nbconvert_exporter": "python",
   "pygments_lexer": "ipython3",
   "version": "3.10.8"
  }
 },
 "nbformat": 4,
 "nbformat_minor": 5
}
